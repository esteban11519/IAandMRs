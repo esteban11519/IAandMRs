{
 "cells": [
  {
   "cell_type": "code",
   "execution_count": 1,
   "metadata": {},
   "outputs": [],
   "source": [
    "import math               # Libreria que se usa para realizar operaciones matemáticas y funciones\n",
    "import random             # Libreria usada para generar números aleatorios\n",
    "import numpy as np        # Encuentra una raiz real entre 0.5 y 1.5\n",
    "import wave\n",
    " # Módulo de onda de importación\n",
    "import matplotlib.pyplot as plt\n",
    " # Se usa para dibujar formas de onda\n",
    "import os\n",
    " # Se utiliza para el procesamiento del sistema, como la lectura de archivos de audio locales.\n",
    " "
   ]
  },
  {
   "cell_type": "code",
   "execution_count": 2,
   "metadata": {},
   "outputs": [],
   "source": [
    "longCrom = 175576\n",
    "K = 50\n",
    "M = 100\n",
    "pm = 0.01"
   ]
  },
  {
   "cell_type": "code",
   "execution_count": 3,
   "metadata": {},
   "outputs": [],
   "source": [
    "def genera(K,longCrom):\n",
    "    import math               # Libreria que se usa para realizar operaciones matemáticas y funciones\n",
    "    import random             # Libreria usada para generar números aleatorios\n",
    "    import numpy as np        # Encuentra una raiz real entre 0.5 y 1.5\n",
    "    import wave\n",
    "    import sounddevice as sd \n",
    "    import matplotlib.pyplot as plt\n",
    "\n",
    "\n",
    "    # Módulo de onda de importación\n",
    "    \n",
    "    # Se usa para dibujar formas de onda\n",
    "    import numpy as np\n",
    "    # Se utiliza para calcular datos de forma de onda\n",
    "    import os\n",
    "    # Se utiliza para el procesamiento del sistema, como la lectura de archivos de audio locales.\n",
    "    f = wave.open(r\"conversacion1.wav\",'rb' )\n",
    "    params = f.getparams ()\n",
    "    nchannels, sampwidth, framerate, nframes = params [: 4] # Número de 0 ~ 4 antes\n",
    "    print(nchannels,sampwidth,framerate,nframes)\n",
    "    # Leer datos de forma de onda\n",
    "    strData = f.readframes(nframes)\n",
    "    # Convertir datos de forma de onda en matriz\n",
    "    waveData = np.fromstring(strData,dtype=np.int16)\n",
    "    waveData = waveData*1.0/(max(abs(waveData)))\n",
    "    time = np.arange (0, nframes) * (1.0 / framerate) #Calcular el tiempo de audio\n",
    "    waveData = np.reshape(waveData,[nframes,nchannels]) \n",
    "    f.close()\n",
    "    #Trabajaremos con  numeros enteros\n",
    "    for i in range(len(waveData)):       \n",
    "        waveData[i]=int((waveData[i])*1000)\n",
    "    sd.play(waveData, blocking=True)\n",
    "    print(len(waveData))\n",
    "    return waveData\n",
    "\n"
   ]
  },
  {
   "cell_type": "code",
   "execution_count": 4,
   "metadata": {},
   "outputs": [],
   "source": [
    "def genera(K,longCrom):\n",
    "    import math               # Libreria que se usa para realizar operaciones matemáticas y funciones\n",
    "    import random             # Libreria usada para generar números aleatorios\n",
    "    import numpy as np        # Encuentra una raiz real entre 0.5 y 1.5\n",
    "    import wave\n",
    "    import sounddevice as sd \n",
    "    # Módulo de onda de importación\n",
    "    import matplotlib.pyplot as plt\n",
    "    # Se usa para dibujar formas de onda\n",
    "    import numpy as np\n",
    "    # Se utiliza para calcular datos de forma de onda\n",
    "    import os\n",
    "    # Se utiliza para el procesamiento del sistema, como la lectura de archivos de audio locales.\n",
    "    f = wave.open(r\"conversacion1.wav\",'rb' )\n",
    "    params = f.getparams ()\n",
    "    nchannels, sampwidth, framerate, nframes = params [: 4] # Número de 0 ~ 4 antes\n",
    "    #print(nchannels,sampwidth,framerate,nframes)\n",
    "    # Leer datos de forma de onda\n",
    "    strData = f.readframes(nframes)\n",
    "    # Convertir datos de forma de onda en matriz\n",
    "    waveData = np.fromstring(strData,dtype=np.int16)\n",
    "    waveData = waveData*1.0/(max(abs(waveData)))\n",
    "    time = np.arange (0, nframes) * (1.0 / framerate) #Calcular el tiempo de audio\n",
    "    waveData = np.reshape(waveData,[nframes,nchannels]) \n",
    "\n",
    "    #def genera(K,longCrom):\n",
    "    Pob_nueva = np.zeros([51, longCrom], dtype = float)\n",
    "    cromosoma = np.zeros([longCrom], dtype = float)\n",
    "    j = 0\n",
    "    sd.play(np.array(waveData), blocking=True)\n",
    "    #creamos los 50 audios\n",
    "    while j < K:\n",
    "\n",
    "        for n in range(len(waveData)):\n",
    "            #le añadimos ruido\n",
    "            l=random.randint(0, 2)\n",
    "            if(l==0):\n",
    "                if(n%2==0 or n%2==5 or n%2==3):\n",
    "                    cromosoma[n]=random.randint(-500, 1005)\n",
    "            if(l==1):\n",
    "                if(n%2==5 ):\n",
    "                    cromosoma[n]=random.randint(-50, 10)\n",
    "            if(l==2):\n",
    "                if(n%2==11 ):\n",
    "                    cromosoma[n]=random.randint(-500, 1005)\n",
    "                else:\n",
    "                    cromosoma[n]=(waveData[n])*1000 \n",
    "                \n",
    "            \n",
    "        Pob_nueva[j] = cromosoma.reshape(-1)\n",
    "\n",
    "        j +=1\n",
    " \n",
    "    return Pob_nueva\n"
   ]
  },
  {
   "cell_type": "code",
   "execution_count": 5,
   "metadata": {},
   "outputs": [],
   "source": [
    "import sounddevice as sd \n",
    "def evalua( Pob_nueva):\n",
    "    Apt_total = 0\n",
    "    vectorX = np.zeros(K, dtype = float)\n",
    "    probab = np.zeros(K, dtype = float) \n",
    "    aptitud = np.zeros(K, dtype = float) \n",
    "    mejor = 50.\n",
    "    mejorX = 0.\n",
    "  \n",
    "    i = 0\n",
    "    while(i < K):\n",
    "        #Nosotros somo la funcion de aptitud (segun la calificacion de cada uno obtendremos el final con mas parecido al original)        \n",
    "        sd.play(np.array(Pob_nueva[i]), blocking=True)\n",
    "        apt = input(\"Aptitud de 0 al 10. Audio N° \"+str(i)+\" de 50\")\n",
    "        aptitud[i] = (10 - abs(float(apt)))*100\n",
    "        i += 1\n",
    "    Apt_total = float(sum(aptitud))\n",
    "    probab = 10 * [j/Apt_total for j in aptitud]\n",
    "    maxprobab = np.amax(probab)\n",
    "    maxIndex = np.argmax(probab)\n",
    "    mejorx = vectorX[maxIndex] \n",
    "    probab[maxIndex] = 0.99\n",
    "    return probab, vectorX \n",
    "\n",
    "\n",
    "# las funciones las creamos antes"
   ]
  },
  {
   "cell_type": "code",
   "execution_count": 6,
   "metadata": {},
   "outputs": [],
   "source": [
    "def cruce(Pob_nueva, Probabilidad): \n",
    "    maxprobab = np.amax(prob_cromosoma)\n",
    "    maxIndex = np.argmax(prob_cromosoma)\n",
    "    len(Pob_nueva)\n",
    "    i = 0\n",
    "    while (i < K-1):\n",
    "        mejorCrom = Pob_nueva[maxIndex]\n",
    "        if Probabilidad[i] < 0.97:\n",
    "            rand = random.randint(2,longCrom-1) # Posición de cruce aleatoria\n",
    "            padre1 = Pob_nueva[i]\n",
    "            padre2 = Pob_nueva[i+1]\n",
    "            j = rand\n",
    "            while(j < longCrom):\n",
    "                bit = padre1[j]\n",
    "                padre1[j] = padre2[j]\n",
    "                padre2[j] = bit\n",
    "                j += 1  \n",
    "        else:\n",
    "            if maxIndex %2 == 0:\n",
    "                Pob_nueva[i] = Pob_nueva[maxIndex]\n",
    "            else:\n",
    "                Pob_nueva[i+1] = Pob_nueva[maxIndex] \n",
    "        i += 2\n",
    "    return Pob_nueva"
   ]
  },
  {
   "cell_type": "code",
   "execution_count": 7,
   "metadata": {},
   "outputs": [],
   "source": [
    "def muta(Pob_nueva, pm):\n",
    "    totalbits = K * longCrom\n",
    "    segmento = 1/pm\n",
    "    n_segmentos = totalbits/segmento\n",
    "    i =0\n",
    "    while(i < n_segmentos-1):\n",
    "        aleatorio = random.randint(0, segmento-1)\n",
    "        posic = int(i * segmento + aleatorio)\n",
    "        y = int((posic/longCrom))\n",
    "        cromosoma = Pob_nueva[y]\n",
    "        x = posic - longCrom * y \n",
    "        # La magnitud es de 50 unidades\n",
    "        if (cromosoma[x-1]-50 <0):\n",
    "            cromosoma[x-1] = (cromosoma[x-1]-50)*-1\n",
    "        else:\n",
    "            cromosoma[x-1] = (cromosoma[x-1]-50)\n",
    "        i +=1    \n",
    "    return Pob_nueva"
   ]
  },
  {
   "cell_type": "code",
   "execution_count": 8,
   "metadata": {},
   "outputs": [],
   "source": [
    "def seleccion_ruleta(poblacion, probabilidad):\n",
    "    chosen = []\n",
    "    while len(chosen)<= K:\n",
    "        for n in range(K):\n",
    "            r = random.random()\n",
    "            for (i, individuo) in enumerate(poblacion):\n",
    "                #print(i)\n",
    "                if i > K:\n",
    "                    break\n",
    "                if r <= probabilidad[i]:\n",
    "                    chosen.append(list(individuo))\n",
    "                    break\n",
    "    return chosen"
   ]
  },
  {
   "cell_type": "code",
   "execution_count": 9,
   "metadata": {},
   "outputs": [
    {
     "name": "stderr",
     "output_type": "stream",
     "text": [
      "<ipython-input-4-c54749a5b823>:21: DeprecationWarning: The binary mode of fromstring is deprecated, as it behaves surprisingly on unicode inputs. Use frombuffer instead\n",
      "  waveData = np.fromstring(strData,dtype=np.int16)\n"
     ]
    },
    {
     "name": "stdout",
     "output_type": "stream",
     "text": [
      "Aptitud de 0 al 10. Audio N° 0 de 507\n",
      "Aptitud de 0 al 10. Audio N° 1 de 508\n",
      "Aptitud de 0 al 10. Audio N° 2 de 50\n"
     ]
    },
    {
     "ename": "ValueError",
     "evalue": "could not convert string to float: ''",
     "output_type": "error",
     "traceback": [
      "\u001b[1;31m---------------------------------------------------------------------------\u001b[0m",
      "\u001b[1;31mValueError\u001b[0m                                Traceback (most recent call last)",
      "\u001b[1;32m<ipython-input-9-ce950ec1f93f>\u001b[0m in \u001b[0;36m<module>\u001b[1;34m\u001b[0m\n\u001b[0;32m      1\u001b[0m \u001b[0mPob_nueva3\u001b[0m \u001b[1;33m=\u001b[0m \u001b[0mgenera\u001b[0m\u001b[1;33m(\u001b[0m\u001b[0mK\u001b[0m\u001b[1;33m,\u001b[0m\u001b[0mlongCrom\u001b[0m\u001b[1;33m)\u001b[0m\u001b[1;33m\u001b[0m\u001b[1;33m\u001b[0m\u001b[0m\n\u001b[1;32m----> 2\u001b[1;33m \u001b[0mprob_cromosoma\u001b[0m\u001b[1;33m,\u001b[0m\u001b[0mvectorX\u001b[0m \u001b[1;33m=\u001b[0m \u001b[0mevalua\u001b[0m\u001b[1;33m(\u001b[0m\u001b[0mPob_nueva3\u001b[0m\u001b[1;33m)\u001b[0m\u001b[1;33m\u001b[0m\u001b[1;33m\u001b[0m\u001b[0m\n\u001b[0m\u001b[0;32m      3\u001b[0m \u001b[0mi\u001b[0m \u001b[1;33m=\u001b[0m \u001b[1;36m0\u001b[0m\u001b[1;33m\u001b[0m\u001b[1;33m\u001b[0m\u001b[0m\n\u001b[0;32m      4\u001b[0m \u001b[1;32mwhile\u001b[0m \u001b[1;33m(\u001b[0m\u001b[0mi\u001b[0m \u001b[1;33m<\u001b[0m \u001b[0mM\u001b[0m\u001b[1;33m)\u001b[0m\u001b[1;33m:\u001b[0m\u001b[1;33m\u001b[0m\u001b[1;33m\u001b[0m\u001b[0m\n\u001b[0;32m      5\u001b[0m     \u001b[0mPob_vieja\u001b[0m \u001b[1;33m=\u001b[0m \u001b[0mPob_nueva3\u001b[0m\u001b[1;33m\u001b[0m\u001b[1;33m\u001b[0m\u001b[0m\n",
      "\u001b[1;32m<ipython-input-5-30279505930b>\u001b[0m in \u001b[0;36mevalua\u001b[1;34m(Pob_nueva)\u001b[0m\n\u001b[0;32m     13\u001b[0m         \u001b[0msd\u001b[0m\u001b[1;33m.\u001b[0m\u001b[0mplay\u001b[0m\u001b[1;33m(\u001b[0m\u001b[0mnp\u001b[0m\u001b[1;33m.\u001b[0m\u001b[0marray\u001b[0m\u001b[1;33m(\u001b[0m\u001b[0mPob_nueva\u001b[0m\u001b[1;33m[\u001b[0m\u001b[0mi\u001b[0m\u001b[1;33m]\u001b[0m\u001b[1;33m)\u001b[0m\u001b[1;33m,\u001b[0m \u001b[0mblocking\u001b[0m\u001b[1;33m=\u001b[0m\u001b[1;32mTrue\u001b[0m\u001b[1;33m)\u001b[0m\u001b[1;33m\u001b[0m\u001b[1;33m\u001b[0m\u001b[0m\n\u001b[0;32m     14\u001b[0m         \u001b[0mapt\u001b[0m \u001b[1;33m=\u001b[0m \u001b[0minput\u001b[0m\u001b[1;33m(\u001b[0m\u001b[1;34m\"Aptitud de 0 al 10. Audio N° \"\u001b[0m\u001b[1;33m+\u001b[0m\u001b[0mstr\u001b[0m\u001b[1;33m(\u001b[0m\u001b[0mi\u001b[0m\u001b[1;33m)\u001b[0m\u001b[1;33m+\u001b[0m\u001b[1;34m\" de 50\"\u001b[0m\u001b[1;33m)\u001b[0m\u001b[1;33m\u001b[0m\u001b[1;33m\u001b[0m\u001b[0m\n\u001b[1;32m---> 15\u001b[1;33m         \u001b[0maptitud\u001b[0m\u001b[1;33m[\u001b[0m\u001b[0mi\u001b[0m\u001b[1;33m]\u001b[0m \u001b[1;33m=\u001b[0m \u001b[1;33m(\u001b[0m\u001b[1;36m10\u001b[0m \u001b[1;33m-\u001b[0m \u001b[0mabs\u001b[0m\u001b[1;33m(\u001b[0m\u001b[0mfloat\u001b[0m\u001b[1;33m(\u001b[0m\u001b[0mapt\u001b[0m\u001b[1;33m)\u001b[0m\u001b[1;33m)\u001b[0m\u001b[1;33m)\u001b[0m\u001b[1;33m*\u001b[0m\u001b[1;36m100\u001b[0m\u001b[1;33m\u001b[0m\u001b[1;33m\u001b[0m\u001b[0m\n\u001b[0m\u001b[0;32m     16\u001b[0m         \u001b[0mi\u001b[0m \u001b[1;33m+=\u001b[0m \u001b[1;36m1\u001b[0m\u001b[1;33m\u001b[0m\u001b[1;33m\u001b[0m\u001b[0m\n\u001b[0;32m     17\u001b[0m     \u001b[0mApt_total\u001b[0m \u001b[1;33m=\u001b[0m \u001b[0mfloat\u001b[0m\u001b[1;33m(\u001b[0m\u001b[0msum\u001b[0m\u001b[1;33m(\u001b[0m\u001b[0maptitud\u001b[0m\u001b[1;33m)\u001b[0m\u001b[1;33m)\u001b[0m\u001b[1;33m\u001b[0m\u001b[1;33m\u001b[0m\u001b[0m\n",
      "\u001b[1;31mValueError\u001b[0m: could not convert string to float: ''"
     ]
    }
   ],
   "source": [
    "Pob_nueva3 = genera(K,longCrom) \n",
    "prob_cromosoma,vectorX = evalua(Pob_nueva3)\n",
    "i = 0\n",
    "while (i < M):\n",
    "    Pob_vieja = Pob_nueva3\n",
    "    Pob_nueva1 = seleccion_ruleta(Pob_vieja, prob_cromosoma)\n",
    "    Pob_nueva2 = cruce(Pob_nueva1, prob_cromosoma)\n",
    "    Pob_nueva3 = muta(Pob_nueva2, pm)\n",
    "    prob_cromosoma, vectorX = evalua(Pob_nueva3)\n",
    "    maxprobab = np.amax(prob_cromosoma)\n",
    "    maxIndex = np.argmax(prob_cromosoma)\n",
    "    mejorx = vectorX[maxIndex]\n",
    "    x = mejorx\n",
    "    # Escucharemos el nuevo\n",
    "    sd.play(np.array(mejorx), blocking=True)\n",
    "\n",
    "    i += 1"
   ]
  },
  {
   "cell_type": "code",
   "execution_count": null,
   "metadata": {},
   "outputs": [],
   "source": []
  }
 ],
 "metadata": {
  "interpreter": {
   "hash": "467823f46f9d1c46ff97d8c620762e0cc0d7c5d1c0d78c2ed084b8211aec3d9e"
  },
  "kernelspec": {
   "display_name": "Python 3",
   "language": "python",
   "name": "python3"
  },
  "language_info": {
   "codemirror_mode": {
    "name": "ipython",
    "version": 3
   },
   "file_extension": ".py",
   "mimetype": "text/x-python",
   "name": "python",
   "nbconvert_exporter": "python",
   "pygments_lexer": "ipython3",
   "version": "3.8.8"
  }
 },
 "nbformat": 4,
 "nbformat_minor": 2
}
