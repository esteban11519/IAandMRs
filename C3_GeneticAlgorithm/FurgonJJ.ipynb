{
 "cells": [
  {
   "cell_type": "code",
   "execution_count": 3,
   "metadata": {},
   "outputs": [],
   "source": [
    "from numpy.random import randint\n",
    "from numpy.random import rand\n",
    "import random \n",
    "import math"
   ]
  },
  {
   "cell_type": "code",
   "execution_count": 4,
   "metadata": {},
   "outputs": [],
   "source": [
    "def genera(K):\n",
    "    l = 8\n",
    "    pob = [randint(0, 2, l).tolist() for _ in range(K)]\n",
    "    return pob"
   ]
  },
  {
   "cell_type": "code",
   "execution_count": 5,
   "metadata": {},
   "outputs": [],
   "source": [
    "def eval_apt(pob):\n",
    "    apt_crom = []\n",
    "    apt_pob = 0\n",
    "    for i in range(0, len(pob)):\n",
    "        crom = pob[i]\n",
    "        apt = Func_ap(crom)\n",
    "        apt_pob += apt\n",
    "        apt_crom.append(apt)\n",
    "    probab = []\n",
    "    for i in range(0, len(pob)):\n",
    "        prob_crom = apt_crom[i]/apt_pob\n",
    "        probab.append(prob_crom)\n",
    "    return probab\n",
    "               \n",
    "def Func_ap(cromosoma):\n",
    "    n  = [decof([cromosoma[0] , cromosoma[1]],2) , decof([cromosoma[2] , cromosoma[3]],2) , decof([cromosoma[4] , cromosoma[5]],2) , decof(cromosoma[6],1) ,decof(cromosoma[7],1)]\n",
    "    x1 , x2 , x3 , x4 , x5 = n[0] , n[1] , n[2] , n[3]  , n[4]\n",
    "    pesot = int(x1)*4 + (int(x2)*5) + (int(x3)*6) + (int(x4)*7)  + (int(x5)*8)\n",
    "\n",
    "    valort = int(n[0])*6 + int(n[1])*7 + int(n[2])*8 + int(n[3])*10 + int(n[4])*12\n",
    "    ap = valort \n",
    "    if pesot > 24:\n",
    "        ap = valort - 3*(pesot - 24)\n",
    "    if ap == 0:\n",
    "        ap =1\n",
    "    return ap\n",
    "\n",
    "def decof(cromosoma,r):\n",
    "    d = 0\n",
    "    if r == 1:\n",
    "        return cromosoma\n",
    "    else:\n",
    "        for i in range(r):\n",
    "            d += (cromosoma[i]* (2**(r-1)))\n",
    "            r -= 1\n",
    "        return d\n",
    "    \n",
    "def decodifica(cromosoma):\n",
    "    n  = [decof([cromosoma[0] , cromosoma[1]],2) , decof([cromosoma[2] , cromosoma[3]],2) , decof([cromosoma[4] , cromosoma[5]],2) , decof(cromosoma[6],1) ,decof(cromosoma[7],1)]\n",
    "    x1 , x2 , x3 , x4 , x5 = n[0] , n[1] , n[2] , n[3]  , n[4]\n",
    "    return x1 , x2 , x3 , x4 , x5"
   ]
  },
  {
   "cell_type": "code",
   "execution_count": 6,
   "metadata": {},
   "outputs": [],
   "source": [
    "def seleccion(pob, probab):\n",
    "    j = 0\n",
    "    K = len(pob)\n",
    "    limite = 2 * max(probab)\n",
    "    pob_nueva = []\n",
    "    while j < K: \n",
    "        i = 0 \n",
    "        while i < K: \n",
    "            aleat = random.uniform(0, limite)\n",
    "            if probab[i] > aleat: \n",
    "                pob_nueva.append(pob[j])\n",
    "                j += 1\n",
    "                if j >= K:\n",
    "                    break\n",
    "            i +=1\n",
    "            if i == K:\n",
    "                i = 0\n",
    "    return pob_nueva"
   ]
  },
  {
   "cell_type": "code",
   "execution_count": 7,
   "metadata": {},
   "outputs": [],
   "source": [
    "def cruce(pob_nueva): \n",
    "    i = 0 \n",
    "    K = len(pob_nueva)\n",
    "    hijos =[]\n",
    "    while i < K:\n",
    "        crom1 = pob_nueva[i]\n",
    "        crom2 = pob_nueva[i+1]\n",
    "        pt = randint(1, len(crom1)-1)\n",
    "        hijo1 = crom1[:pt] + crom2[pt:]\n",
    "        hijo2 = crom2[:pt] + crom1[pt:]\n",
    "        hijos.append(hijo1)\n",
    "        hijos.append(hijo2)\n",
    "        i = i +2; \n",
    "    return(hijos)"
   ]
  },
  {
   "cell_type": "code",
   "execution_count": 8,
   "metadata": {},
   "outputs": [],
   "source": [
    "def mutacion(hijos, pm, l):\n",
    "    K = len(hijos)\n",
    "    totalbits = K * l \n",
    "    segmento = 1/pm \n",
    "    n_mutaciones = totalbits/segmento\n",
    "    i = 0 \n",
    "    while i < n_mutaciones: \n",
    "        muta = randint(0, totalbits-1)\n",
    "        x = math.floor(muta/l) \n",
    "        y = muta%l\n",
    "        if hijos[x][y] == 0: \n",
    "            hijos[x][y] = 1 \n",
    "        else: \n",
    "            hijos[x][y] = 0 \n",
    "        i += 1\n",
    "    return hijos"
   ]
  },
  {
   "cell_type": "code",
   "execution_count": 9,
   "metadata": {},
   "outputs": [],
   "source": [
    "def Alg_Genetico(l, M, K, p_mut): \n",
    "    pob = genera(K)  #Se genera aleatoriamente la población \n",
    "    probab = eval_apt(pob) #Se evalúa esa primera población\n",
    "    mejor_apt_AG = 0\n",
    "    mejor_cromo_AG = [0,0,0,0,0,0,0,0,]\n",
    "    i =0;                    #Es la primera generación \n",
    "    while i < M:     #Mientras no se ejecuten todas las generaciones\n",
    "        n_pob = seleccion(pob, probab) #Selecciona, los nuevo padres  \n",
    "        hijos = cruce(n_pob)           #Cruce de los padres generan hijos\n",
    "        pob = mutacion(hijos, p_mut, l)   #Se mutan los hijos para generar otra población       \n",
    "        probab = eval_apt(pob) #Se evalua la población i, se calcula la probabilidad de selección           \n",
    "        mejor_prob = max(probab)\n",
    "        mejor_posic = probab.index(max(probab))\n",
    "        mejor_crom = pob[mejor_posic]\n",
    "        mejor_apt = Func_ap(mejor_crom)\n",
    "        if mejor_apt > mejor_apt_AG:\n",
    "            mejor_apt_AG = mejor_apt\n",
    "            mejor_cromo_AG = mejor_crom\n",
    "        x1,x2,x3,x4,x5 = decodifica(mejor_cromo_AG)\n",
    "        print(\"gen \",i,\"A =\",x1,\"B =\",x2,\"C =\",x3,\"D =\",x4,\"E =\",x5,\"valor de la función\", mejor_apt_AG)\n",
    "        i = i + 1                       #Se incrementa el contador de generaciones\n",
    "    #print(\"generacion \", i, \"Mejor solución  x\", xAG, \"valor de la función\", yAG)"
   ]
  },
  {
   "cell_type": "code",
   "execution_count": 12,
   "metadata": {},
   "outputs": [
    {
     "name": "stdout",
     "output_type": "stream",
     "text": [
      "gen  0 A = 0 B = 2 C = 1 D = 0 E = 1 valor de la función 34\n",
      "gen  1 A = 0 B = 2 C = 1 D = 0 E = 1 valor de la función 34\n",
      "gen  2 A = 0 B = 2 C = 1 D = 0 E = 1 valor de la función 34\n",
      "gen  3 A = 0 B = 2 C = 1 D = 0 E = 1 valor de la función 34\n",
      "gen  4 A = 0 B = 2 C = 1 D = 0 E = 1 valor de la función 34\n",
      "gen  5 A = 0 B = 2 C = 1 D = 0 E = 1 valor de la función 34\n",
      "gen  6 A = 0 B = 2 C = 1 D = 0 E = 1 valor de la función 34\n",
      "gen  7 A = 0 B = 2 C = 1 D = 0 E = 1 valor de la función 34\n",
      "gen  8 A = 0 B = 2 C = 1 D = 0 E = 1 valor de la función 34\n",
      "gen  9 A = 0 B = 2 C = 1 D = 0 E = 1 valor de la función 34\n"
     ]
    }
   ],
   "source": [
    "l = 8 #Constante para este problema\n",
    "M = 10 \n",
    "K = 50 \n",
    "p_mut = 0.1\n",
    "Alg_Genetico(l, M, K, p_mut)"
   ]
  },
  {
   "cell_type": "code",
   "execution_count": null,
   "metadata": {},
   "outputs": [],
   "source": []
  },
  {
   "cell_type": "code",
   "execution_count": null,
   "metadata": {},
   "outputs": [],
   "source": []
  }
 ],
 "metadata": {
  "kernelspec": {
   "display_name": "Python 3",
   "language": "python",
   "name": "python3"
  },
  "language_info": {
   "codemirror_mode": {
    "name": "ipython",
    "version": 3
   },
   "file_extension": ".py",
   "mimetype": "text/x-python",
   "name": "python",
   "nbconvert_exporter": "python",
   "pygments_lexer": "ipython3",
   "version": "3.8.8"
  }
 },
 "nbformat": 4,
 "nbformat_minor": 4
}
