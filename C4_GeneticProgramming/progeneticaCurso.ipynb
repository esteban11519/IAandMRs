{
 "cells": [
  {
   "cell_type": "markdown",
   "metadata": {},
   "source": [
    "#                           PROGRAMACIÓN GENÉTICA"
   ]
  },
  {
   "cell_type": "markdown",
   "metadata": {},
   "source": [
    "A continuacion se presentan las estructuras de datos  y los algoritmos basicos de la programacion genetica. En primer lugar se importan la libreria random. basica en esta herramienta y numpy para el manejo de matrices.\n",
    "\n",
    "En PG las estructura que evolucionan son arboles binarios. Primero se definen las clases Nodo y Pila con sus metodos. El nodo de un arbol binario se compone de dos enlaces, el izquierdo y el derecho y un campo que contiene la informacion del nodo. El arbol se compone de este tipo de nodos.\n",
    "\n",
    "Aunque son tres los recorridos que se le pueden hacer a un arbol binario, el que utilizamos aqui es el recorrido en postorden, dado que al hacerlo obtenemos la notacion polaca del arbol, que permite hacer su evaluacion.\n",
    "\n",
    "Otra estructura de datos importante es la pila, con sus correspondientes metodos, pues la utilizamos en la evaluacion de la expresion polaca.\n"
   ]
  },
  {
   "cell_type": "code",
   "execution_count": 70,
   "metadata": {},
   "outputs": [],
   "source": [
    "import random\n",
    "import numpy as np\n",
    "\n",
    "class Nodo:\n",
    "    def __init__(self, dato):\n",
    "        self.ei = None\n",
    "        self.ed = None\n",
    "        self.dato = dato\n",
    "        \n",
    "    def PostorderTraversal(self, arbol):\n",
    "        res = []\n",
    "        if arbol:\n",
    "            res = self.PostorderTraversal(arbol.ei)\n",
    "            res = res + self.PostorderTraversal(arbol.ed)\n",
    "            res.append(arbol.dato)\n",
    "        return res\n",
    "    \n",
    "    \n",
    "class Pila:\n",
    "    def __init__(self):\n",
    "         self.items = []\n",
    "\n",
    "    def pruebaPila(self):\n",
    "         return self.items == []\n",
    "\n",
    "    def insertaPila(self, item):\n",
    "         self.items.append(item)\n",
    "\n",
    "    def eliminaPila(self):\n",
    "         return self.items.pop()\n",
    "\n",
    "    def accedePila(self):\n",
    "         return self.items[len(self.items)-1]\n",
    "\n",
    "    def tamanoPila(self):\n",
    "         return len(self.items)\n",
    "        \n",
    "        \n"
   ]
  },
  {
   "cell_type": "markdown",
   "metadata": {},
   "source": [
    "# Funciones"
   ]
  },
  {
   "cell_type": "markdown",
   "metadata": {},
   "source": [
    "Luego se definen las funciones creaArbol, Funcion, Terminal y Poblacion.\n",
    "\n",
    "creaArbol, crea un arbol binario con 7 nodos, un nodo raiz, un nodo en el subarbol izquierdo, uno en el subarbol derecho y cada uno de estos con 2 nodos. A excepcion de los 4 ultimos nodos, que son terminales, en cada nodo interno se le debe incluir una funcion en su campo de informacion, para eso se usa Funcion y en los 4 terminales un terminal, para eso se usa la funcion Terminal.\n",
    "\n",
    "Funcion, escoge aleatoriamente del conjunto de funciones una funcion.\n",
    "\n",
    "Termimal, escoge aleatoriamente del conjunto de terminales un terminal.\n",
    "\n",
    "Poblacion, se le da el parametro k, que es el numero de estos arboles que debe crear como poblacion inicial.\n",
    "\n"
   ]
  },
  {
   "cell_type": "code",
   "execution_count": 2,
   "metadata": {},
   "outputs": [],
   "source": [
    "def creaArbol():\n",
    "    funcion = Funcion()\n",
    "    arbol = Nodo(funcion)\n",
    "    funcion = Funcion()\n",
    "    subarbol1 = Nodo(funcion)\n",
    "    funcion = Funcion()\n",
    "    subarbol2 = Nodo(funcion)\n",
    "    terminal = Terminal()\n",
    "    subarbol11 = Nodo(terminal)\n",
    "    terminal = Terminal()\n",
    "    subarbol12 = Nodo(terminal)\n",
    "    terminal = Terminal()\n",
    "    subarbol21 = Nodo(terminal)\n",
    "    terminal = Terminal()\n",
    "    subarbol22 = Nodo(terminal)\n",
    "    arbol.ei = subarbol1\n",
    "    arbol.ed = subarbol2\n",
    "    subarbol1.ei = subarbol11\n",
    "    subarbol1.ed = subarbol12\n",
    "    subarbol2.ei = subarbol21\n",
    "    subarbol2.ed = subarbol22\n",
    "    return arbol\n",
    "\n",
    "def Funcion():\n",
    "    indiceFuncion =random.randrange(len(setFunciones))\n",
    "    funcion = setFunciones[indiceFuncion]\n",
    "    return funcion\n",
    "\n",
    "def Terminal():\n",
    "    indiceTerminal =random.randrange(len(setTerminales))\n",
    "    terminal = setTerminales[indiceTerminal]\n",
    "    return  terminal\n",
    "\n",
    "def Poblacion(k):\n",
    "    programas = []\n",
    "    for contador in range(1,k):\n",
    "        arbol = creaArbol()\n",
    "        programas.append(arbol)\n",
    "    return programas  \n"
   ]
  },
  {
   "cell_type": "markdown",
   "metadata": {},
   "source": [
    "# Funciones operativas"
   ]
  },
  {
   "cell_type": "markdown",
   "metadata": {},
   "source": [
    "Luego vienen las funciones que soportan propiamente el proceso de la PG. \n",
    "\n",
    "expresiones, que recorre cada arbol de la poblacion en postorden, para obtener la notacion de la expresion en notacion polaca, para su evaluacion.\n",
    "\n",
    "evalPol, se le da la expresion polaca que va a evaluar. Produce un resultado numerico, en este caso porque las funciones que se han definido son numericas. \n",
    "\n",
    "nodosArbol, cuenta el numero de nodos de cada arbol.\n",
    "\n",
    "puntoCruce, con base en el numero de nodos, define un numero aleatorio para definir el punto de cruce de dos arboles."
   ]
  },
  {
   "cell_type": "code",
   "execution_count": 25,
   "metadata": {},
   "outputs": [],
   "source": [
    "def expresiones(arbolesPrograma):\n",
    "    #Encuentra la expresion polaca de cada arbol programa de la poblacion\n",
    "    listaArboles = len(arbolesPrograma) \n",
    "    expresion = []\n",
    "    i = 0\n",
    "    while (i < 10): \n",
    "        arbol = arbolesPrograma[i]\n",
    "        expresion.append(arbol.PostorderTraversal(arbol))\n",
    "        i = i + 1\n",
    "    return expresion\n",
    "\n",
    "def evalPol(polaca):\n",
    "    #Ejecuta la expresion polaca\n",
    "    pila = Pila()\n",
    "    resultado = 0\n",
    "    aux = 1\n",
    "    for i in polaca:\n",
    "        if type(i) == int:\n",
    "            #print(i, \"entero\")\n",
    "            pila.insertaPila(i)     \n",
    "        else:\n",
    "            #print(i, \"operador\")\n",
    "            aux1 = pila.eliminaPila()\n",
    "            #print(aux1)\n",
    "            aux2 = pila.eliminaPila()\n",
    "            #print(aux2)\n",
    "            if i == \"-\":\n",
    "                aux3 = aux2 - aux1\n",
    "                #print(aux3)\n",
    "            if i == \"+\":\n",
    "                aux3 = aux2 + aux1\n",
    "                #print(aux3)\n",
    "            if i == \"*\":\n",
    "                #print(aux3)\n",
    "                aux3 = aux2 * aux1 \n",
    "            if i == \"/\":\n",
    "                aux3 = aux2 / aux1\n",
    "                #print(aux3)\n",
    "            if i == \"&\":\n",
    "                aux3 = aux2 ** aux1\n",
    "                #print(aux3)\n",
    "            if i == \"=\":\n",
    "                resultado = aux1\n",
    "                #pass\n",
    "                #print(aux3)\n",
    "            pila.insertaPila(aux3)\n",
    "    return aux3\n",
    "\n",
    "def nodosArbol(expresion, n):\n",
    "    #Encuentra la longitud de cada expresion arbol en la poblacion\n",
    "    nodos= []\n",
    "    i = 0\n",
    "    while (i < n): \n",
    "        nodos.append(len(expresion[i]))\n",
    "        i = i +1\n",
    "    return nodos\n",
    "\n",
    "def puntoCruce(nodos):\n",
    "    #Define el punto de cruce de cada expresion arbol en la poblacion\n",
    "    i = 0\n",
    "    puntosCruce = []\n",
    "    while(i <10):\n",
    "        k = nodos[i] \n",
    "        puntosCruce.append(random.randint(2,(k-1)))\n",
    "        i = i +1\n",
    "    return puntosCruce\n",
    "\n"
   ]
  },
  {
   "cell_type": "markdown",
   "metadata": {},
   "source": [
    "# Parametros basicos e inicio"
   ]
  },
  {
   "cell_type": "markdown",
   "metadata": {},
   "source": [
    "Se define el conjunto de funciones y el conjunto de terminales. Estos conjuntos dependen del dominio del problema. \n",
    "\n",
    "Por ejemplo, si se trabajan circuitos logicos, el conjunto de terminales seran las funciones logicas y el conjunto de terminales variables logicas y valores True o False. Aqui el conjunto de terminales incluye la variable \"x\".\n",
    "\n",
    "Con el numero de arboles de la poblacin, se genera la primera generacion de arboles."
   ]
  },
  {
   "cell_type": "code",
   "execution_count": 40,
   "metadata": {},
   "outputs": [],
   "source": [
    "\n",
    "setFunciones = [\"+\", \"-\",\"*\", \"/\"]\n",
    "setTerminales = [\"x\", 2,\"x\", 5, 8, 7,\"x\", 9, 12]\n",
    "M = 11 #poblacion de arboles\n",
    "\n",
    "arbolesPrograma = Poblacion(M)\n"
   ]
  },
  {
   "cell_type": "markdown",
   "metadata": {},
   "source": [
    "Se encuentran las expresiones de todos los arboles"
   ]
  },
  {
   "cell_type": "code",
   "execution_count": 41,
   "metadata": {},
   "outputs": [
    {
     "data": {
      "text/plain": [
       "[[8, 'x', '/', 5, 2, '/', '/'],\n",
       " [9, 12, '+', 2, 'x', '-', '*'],\n",
       " [5, 12, '*', 9, 'x', '-', '/'],\n",
       " ['x', 12, '+', 5, 12, '*', '/'],\n",
       " ['x', 'x', '/', 8, 'x', '/', '/'],\n",
       " [7, 'x', '+', 9, 8, '/', '/'],\n",
       " [5, 12, '+', 8, 'x', '+', '*'],\n",
       " [2, 8, '*', 12, 8, '*', '-'],\n",
       " ['x', 8, '*', 'x', 'x', '-', '+'],\n",
       " ['x', 2, '*', 2, 'x', '*', '-']]"
      ]
     },
     "execution_count": 41,
     "metadata": {},
     "output_type": "execute_result"
    }
   ],
   "source": [
    "expresion = expresiones(arbolesPrograma)\n",
    "expresion "
   ]
  },
  {
   "cell_type": "markdown",
   "metadata": {},
   "source": [
    "Se cuenta el numero de nodos de cada arbol"
   ]
  },
  {
   "cell_type": "code",
   "execution_count": 6,
   "metadata": {},
   "outputs": [
    {
     "data": {
      "text/plain": [
       "[7, 7, 7, 7, 7, 7, 7, 7, 7, 7]"
      ]
     },
     "execution_count": 6,
     "metadata": {},
     "output_type": "execute_result"
    }
   ],
   "source": [
    "numeroArboles = len(expresion)\n",
    "nodos = nodosArbol(expresion,numeroArboles)\n",
    "#Longitud de la expresion regular de cada arbol\n",
    "#NumeroArboles es la poblacion\n",
    "nodos"
   ]
  },
  {
   "cell_type": "markdown",
   "metadata": {},
   "source": [
    "Se define el punto de cruce para cada arbol,\n",
    "\n",
    "Se muestran algunos ejemplos"
   ]
  },
  {
   "cell_type": "code",
   "execution_count": 7,
   "metadata": {},
   "outputs": [
    {
     "data": {
      "text/plain": [
       "[4, 4, 2, 5, 2, 5, 6, 2, 3, 6]"
      ]
     },
     "execution_count": 7,
     "metadata": {},
     "output_type": "execute_result"
    }
   ],
   "source": [
    "puntosCruce = puntoCruce(nodos)\n",
    "puntosCruce"
   ]
  },
  {
   "cell_type": "code",
   "execution_count": 8,
   "metadata": {},
   "outputs": [
    {
     "name": "stdout",
     "output_type": "stream",
     "text": [
      "[7, 5, '*', 'x', 7, '+', '/'] ['x', 9, '+', 'x', 'x', '/', '-']\n"
     ]
    }
   ],
   "source": [
    "exp1 = expresion[0]\n",
    "exp2 = expresion[1]\n",
    "print(exp1,exp2)"
   ]
  },
  {
   "cell_type": "code",
   "execution_count": 9,
   "metadata": {},
   "outputs": [
    {
     "name": "stdout",
     "output_type": "stream",
     "text": [
      "4 4\n"
     ]
    }
   ],
   "source": [
    "c1 = puntosCruce[0]\n",
    "c2 = puntosCruce[1]\n",
    "print(c1,c2)"
   ]
  },
  {
   "cell_type": "code",
   "execution_count": 10,
   "metadata": {},
   "outputs": [
    {
     "name": "stdout",
     "output_type": "stream",
     "text": [
      "[7, '+', '/'] ['x', '/', '-']\n"
     ]
    }
   ],
   "source": [
    "expCorte3 = exp1[c1::]\n",
    "expCorte4 = exp2[c2::]\n",
    "print(expCorte3, expCorte4)"
   ]
  },
  {
   "cell_type": "code",
   "execution_count": 11,
   "metadata": {},
   "outputs": [
    {
     "name": "stdout",
     "output_type": "stream",
     "text": [
      "[7, 5, '*', 'x'] ['x', 9, '+', 'x']\n"
     ]
    }
   ],
   "source": [
    "expCorte1 = exp1[:c1:]\n",
    "expCorte2 = exp2[:c2:]\n",
    "print(expCorte1, expCorte2)"
   ]
  },
  {
   "cell_type": "code",
   "execution_count": 16,
   "metadata": {},
   "outputs": [
    {
     "name": "stdout",
     "output_type": "stream",
     "text": [
      "['9' '7' '-' '8' '8' '/' '/' '2' 'x' '/' '-'] ['9' '7' '-']\n"
     ]
    }
   ],
   "source": [
    "hijo1 = np.append(expCorte2,expCorte3)\n",
    "hijo2 = np.append(expCorte1,expCorte4)\n",
    "print(hijo1, hijo2)"
   ]
  },
  {
   "cell_type": "code",
   "execution_count": 18,
   "metadata": {},
   "outputs": [
    {
     "name": "stdout",
     "output_type": "stream",
     "text": [
      "['x' 'x' '/' '12' '12' '-' '2' '7' '*' '+'] ['9' '8' '/' '-']\n"
     ]
    }
   ],
   "source": [
    "exp1 = expresion[2]\n",
    "exp2 = expresion[3]\n",
    "c1 = puntosCruce[2]\n",
    "c2 = puntosCruce[3]\n",
    "expCorte1 = exp1[:c1:]\n",
    "expCorte2 = exp2[:c2:]\n",
    "expCorte3 = exp1[c1::]\n",
    "expCorte4 = exp2[c2::]\n",
    "hijo1 = np.append(expCorte2,expCorte3)\n",
    "hijo2 = np.append(expCorte1,expCorte4)\n",
    "print(hijo1, hijo2)"
   ]
  },
  {
   "cell_type": "code",
   "execution_count": 12,
   "metadata": {},
   "outputs": [
    {
     "name": "stdout",
     "output_type": "stream",
     "text": [
      "[7, 5, '*', 'x', 7, '+', '/']\n",
      "['x', 9, '+', 'x', 'x', '/', '-']\n",
      "['x', 9, '+', 'x', 'x', '/', '-']\n",
      "['x', 7, '-', 12, 9, '+', '-']\n",
      "['x', 7, '-', 12, 9, '+', '-']\n",
      "[9, 7, '*', 2, 7, '+', '*']\n",
      "[9, 7, '*', 2, 7, '+', '*']\n",
      "[9, 8, '+', 7, 5, '-', '/']\n",
      "[9, 8, '+', 7, 5, '-', '/']\n",
      "['x', 'x', '+', 9, 'x', '*', '/']\n"
     ]
    },
    {
     "data": {
      "text/plain": [
       "[array(['x', '9', '+', 'x', '7', '+', '/'], dtype='<U11'),\n",
       " array(['7', '5', '*', 'x', 'x', '/', '-'], dtype='<U11'),\n",
       " array(['x', '9', '+', 'x', 'x', '/', '-'], dtype='<U11'),\n",
       " array(['7', '5', '*', 'x', '-', '12', '9', '+', '-'], dtype='<U11'),\n",
       " array(['x', '9', '+', 'x', '-', '12', '9', '+', '-'], dtype='<U11'),\n",
       " array(['7', '5', '*', 'x', '+', '*'], dtype='<U11'),\n",
       " array(['x', '9', '+', 'x', '+', '*'], dtype='<U11'),\n",
       " array(['7', '5', '*', 'x', '+', '7', '5', '-', '/'], dtype='<U11'),\n",
       " array(['x', '9', '+', 'x', '+', '7', '5', '-', '/'], dtype='<U11'),\n",
       " array(['7', '5', '*', 'x', '*', '/'], dtype='<U11')]"
      ]
     },
     "execution_count": 12,
     "metadata": {},
     "output_type": "execute_result"
    }
   ],
   "source": [
    "expresionNueva = []\n",
    "j = 1\n",
    "while (j < 6): \n",
    "    exp1 = expresion[j-1]\n",
    "    print(exp1)\n",
    "    exp2 = expresion[j]\n",
    "    print(exp2)\n",
    "    c1 = puntosCruce[j-1]\n",
    "    c2 = puntosCruce[j]\n",
    "    expCorte3 = exp1[c1::]\n",
    "    expCorte4 = exp2[c2::]\n",
    "    hijo1 = np.append(expCorte2,expCorte3)\n",
    "    hijo2 = np.append(expCorte1,expCorte4)\n",
    "    expresionNueva.append(hijo1)\n",
    "    expresionNueva.append(hijo2)\n",
    "    j = j + 1\n",
    "expresionNueva   \n"
   ]
  },
  {
   "cell_type": "code",
   "execution_count": 42,
   "metadata": {},
   "outputs": [
    {
     "data": {
      "text/plain": [
       "[8, 'x', '/', 5, 2, '/', '/']"
      ]
     },
     "execution_count": 42,
     "metadata": {},
     "output_type": "execute_result"
    }
   ],
   "source": [
    "expresion[0]"
   ]
  },
  {
   "cell_type": "code",
   "execution_count": 43,
   "metadata": {},
   "outputs": [],
   "source": [
    "arbol = arbolesPrograma[0]"
   ]
  },
  {
   "cell_type": "code",
   "execution_count": 79,
   "metadata": {},
   "outputs": [],
   "source": [
    "def enlacesCruce(T, c): \n",
    "    pila = Pila()\n",
    "    p = T \n",
    "    n = 1 \n",
    "    Sw = False \n",
    "    while( (not(pila.pruebaPila()) or (p != None)) and (not Sw)): \n",
    "        if ( p != None):\n",
    "            q = p \n",
    "            pila.insertaPila(p) \n",
    "            p = p.ei \n",
    "            if (p != None): \n",
    "                n = n + 1 \n",
    "                Ind_Enlace = 1 \n",
    "                if (n == c): \n",
    "                    Sw = True \n",
    "        else:\n",
    "            p = pila.eliminaPila() \n",
    "            p = p.ed\n",
    "            if (p != None): \n",
    "                n = n + 1 \n",
    "                Ind_Enlace = 2 \n",
    "                if (n == c):\n",
    "                    Sw = True\n",
    "                    p = pila.eliminaPila()\n",
    "                    p = p.ed \n",
    "                    if (p != None):  \n",
    "                        n= n + 1 \n",
    "                        Ind_Enlace = 2 \n",
    "                        if (n == c):\n",
    "                            Sw = True\n",
    "    return q, p, Ind_Enlace"
   ]
  },
  {
   "cell_type": "code",
   "execution_count": 80,
   "metadata": {},
   "outputs": [],
   "source": [
    "# Se seleccionan dos árboles de la población para el cruce, \n",
    "# se han llamado las funciones para seleccionar los puntos de cruce c1 y c2\n",
    "def cruceArboles(T1, c1, T2, c2): \n",
    "    q1, p1, Ind_Enlace1 = enlacesCruce(T1, c1) \n",
    "    q2, p2, Ind_Enlace2 = enlacesCruce(T2, c2) \n",
    "    if ( Ind_Enlace1 == 1): \n",
    "        t = q1.ei\n",
    "        q1.ei = p2 \n",
    "    else: \n",
    "        q1.ed = p2 \n",
    "\n",
    "    if ( Ind_Enlace2 == 1):\n",
    "        q2.ei = p1 \n",
    "    else: \n",
    "        q2.ed = p1 \n",
    "    return T1, T2"
   ]
  },
  {
   "cell_type": "code",
   "execution_count": null,
   "metadata": {},
   "outputs": [],
   "source": []
  }
 ],
 "metadata": {
  "kernelspec": {
   "display_name": "Python 3",
   "language": "python",
   "name": "python3"
  },
  "language_info": {
   "codemirror_mode": {
    "name": "ipython",
    "version": 3
   },
   "file_extension": ".py",
   "mimetype": "text/x-python",
   "name": "python",
   "nbconvert_exporter": "python",
   "pygments_lexer": "ipython3",
   "version": "3.8.8"
  }
 },
 "nbformat": 4,
 "nbformat_minor": 2
}
