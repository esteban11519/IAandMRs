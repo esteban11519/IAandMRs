{
 "cells": [
  {
   "cell_type": "code",
   "execution_count": 1,
   "metadata": {},
   "outputs": [],
   "source": [
    "import numpy as np\n",
    "#import pandas as pd\n",
    "from matplotlib import pyplot as plt"
   ]
  },
  {
   "cell_type": "code",
   "execution_count": 2,
   "metadata": {},
   "outputs": [],
   "source": [
    "class NNA(object):\n",
    "    def __init__(self):\n",
    "        self.nn_0 = 20\n",
    "        self.nn_1 = 5\n",
    "        self.nn_2 = 5\n",
    "        self.nn_3 = 5\n",
    "        self.W1 = 0.5*np.random.random((self.nn_1,self.nn_0))\n",
    "        self.b1 = 0.5*np.random.random((self.nn_1,1))\n",
    "        self.W2 = 0.5*np.random.random((self.nn_2,self.nn_1)) # Inicialización de las mattrices de pesos de cada capa\n",
    "        self.b2 = 0.5*np.random.random((self.nn_2,1))\n",
    "        self.W3 = 0.5*np.random.random((self.nn_3,self.nn_2))\n",
    "        self.b3 = 0.5*np.random.random((self.nn_3,1))\n",
    "        \n",
    "        self.Z1 = np.zeros((self.nn_1,1))\n",
    "        self.Y1 = np.zeros((self.nn_1,1))\n",
    "        self.Z2 = np.zeros((self.nn_2,1))   # Inicialización de los vectores de entrada y salida de las capas\n",
    "        self.Y2 = np.zeros((self.nn_2,1))\n",
    "        self.Z3 = np.zeros((self.nn_3,1))\n",
    "        self.Y3 = np.zeros((self.nn_3,1))\n",
    "        \n",
    "    def forward(self, Yo):                      # Función de propagación hacia adelante\n",
    "        self.Z1 = np.dot(self.W1,Yo) + self.b1      # S1 = W1.Yo + b1\n",
    "        self.Y1 = self.sig(self.Z1)                 # Y1 = F(S1)               \n",
    "        self.Z2 = np.dot(self.W2,self.Y1) + self.b2 # S2 = W2.Yo + b2\n",
    "        self.Y2 = self.sig(self.Z2)                 # Y2 = F(S2)             F-> función de activación\n",
    "        self.Z3 = np.dot(self.W3,self.Y2) + self.b3 # S3 = W3.Yo + b3\n",
    "        self.Y3 = self.sig(self.Z3)                 # Y3 = F(S3)\n",
    "        \n",
    "        return self.Y3\n",
    "    \n",
    "    def error(self, Yo, Yd):          # Calculo del error de la salida respecto a los valores deseados\n",
    "        return Yd - self.forward(Yo)\n",
    "     \n",
    "    def errCuad(self, Yo, Yd):       # Calculo del valor cuadrático\n",
    "        return np.diag(np.dot(self.error(Yo,Yd).T,self.error(Yo,Yd)))\n",
    "    \n",
    "    def backpropagation(self,Yo,Yd): # Retropropagación\n",
    "        delta3 = 2*np.dot(self.dSig(self.Z3),self.error(Yo,Yd))\n",
    "        dEdW3 = -np.dot(delta3,self.Y2.T)                             # componente de corrección para W1\n",
    "        dEdb3 = -delta3\n",
    "        \n",
    "        delta2 = np.dot(np.dot(self.dSig(self.Z2),self.W3.T),delta3)\n",
    "        dEdW2 = -np.dot(delta2,self.Y1.T)                             # componente de corrección para W3\n",
    "        dEdb2 = -delta2\n",
    "        \n",
    "        delta1 = np.dot(np.dot(self.dSig(self.Z1),self.W2.T),delta2)\n",
    "        dEdW1 = -np.dot(delta1,Yo.T)                                  # componente de corrección para W3\n",
    "        dEdb1 = -delta1\n",
    "        \n",
    "        return dEdW3,dEdb3,dEdW2,dEdb2,dEdW1,dEdb1,\n",
    "    \n",
    "    def training(self,Yi,Ys):        # Entrenamiento de la red\n",
    "        eta = 1\n",
    "        i=0\n",
    "#         for _ in range(5000):\n",
    "        while max(self.errCuad(Yi,Ys)) > 1e-4 and i < 10000: # Criterio de parada\n",
    "            for yo,yd in zip(Yi.T,Ys.T):\n",
    "                # Actualización de los pesos de cada capa\n",
    "                self.W3 = self.W3 - eta*self.backpropagation(np.array([yo]).T,np.array([yd]).T)[0]\n",
    "                self.b3 = self.b3 - eta*self.backpropagation(np.array([yo]).T,np.array([yd]).T)[1]\n",
    "                self.W2 = self.W2 - eta*self.backpropagation(np.array([yo]).T,np.array([yd]).T)[2]\n",
    "                self.b2 = self.b2 - eta*self.backpropagation(np.array([yo]).T,np.array([yd]).T)[3]\n",
    "                self.W1 = self.W1 - eta*self.backpropagation(np.array([yo]).T,np.array([yd]).T)[4]\n",
    "                self.b1 = self.b1 - eta*self.backpropagation(np.array([yo]).T,np.array([yd]).T)[5]\n",
    "            \n",
    "            i+=1\n",
    "            eta = self.funEta(i)\n",
    "        return i\n",
    "    #############################################\n",
    "    def sig(self, s):\n",
    "        return 1/(1+np.exp(-s))\n",
    "    \n",
    "    def dSig(self, s):\n",
    "        df = self.sig(s.T[0])*(1-self.sig(s.T[0]))\n",
    "        ds = np.diag(df)\n",
    "        return ds\n",
    "    \n",
    "    def funEta(self,var):\n",
    "        if var <= 5000:\n",
    "            return 1.0-(1.0*var/10000)\n",
    "        else:\n",
    "            return 0.7*np.exp(-0.0002*(var-5000))"
   ]
  },
  {
   "cell_type": "code",
   "execution_count": 3,
   "metadata": {},
   "outputs": [],
   "source": [
    "A = np.array([[0,0,0,0],[0,1,1,0],[0,0,0,0],[0,1,1,0],[0,1,1,0]])  \n",
    "E = np.array([[0,0,0,0],[0,1,1,1],[0,0,0,1],[0,1,1,1],[0,0,0,0]])\n",
    "I = np.array([[0,0,0,0],[1,0,0,1],[1,0,0,1],[1,0,0,1],[0,0,0,0]])  # Valores de entrenamiento \n",
    "O = np.array([[0,0,0,0],[0,1,1,0],[0,1,1,0],[0,1,1,0],[0,0,0,0]])\n",
    "U = np.array([[0,1,1,0],[0,1,1,0],[0,1,1,0],[0,1,1,0],[0,0,0,0]])\n",
    "\n",
    "da = np.array([[1,0,0,0,0]]).T\n",
    "de = np.array([[0,1,0,0,0]]).T\n",
    "di = np.array([[0,0,1,0,0]]).T   # Valores deseados\n",
    "do = np.array([[0,0,0,1,0]]).T\n",
    "du = np.array([[0,0,0,0,1]]).T\n",
    "\n",
    "# Concatenación de los elementos de entrada y salida\n",
    "\n",
    "Yi = np.concatenate((np.array([A.ravel()]).T,\\\n",
    "                     np.array([E.ravel()]).T,\\\n",
    "                     np.array([I.ravel()]).T,\\\n",
    "                     np.array([O.ravel()]).T,\\\n",
    "                     np.array([U.ravel()]).T,\\\n",
    "                     np.array([U.ravel()]).T,\\\n",
    "                     np.array([O.ravel()]).T,\\\n",
    "                     np.array([I.ravel()]).T,\\\n",
    "                     np.array([E.ravel()]).T,\\\n",
    "                     np.array([A.ravel()]).T),axis=1)\n",
    "\n",
    "Yd = np.concatenate(( da,de,di,do,du,du,do,di,de,da ),axis=1)"
   ]
  },
  {
   "cell_type": "code",
   "execution_count": 4,
   "metadata": {},
   "outputs": [
    {
     "data": {
      "image/png": "[encoded data removed]",
      "text/plain": [
       "<Figure size 640x480 with 1 Axes>"
      ]
     },
     "metadata": {},
     "output_type": "display_data"
    },
    {
     "data": {
      "image/png": "[encoded data removed]",
      "text/plain": [
       "<Figure size 640x480 with 1 Axes>"
      ]
     },
     "metadata": {},
     "output_type": "display_data"
    },
    {
     "data": {
      "image/png": "[encoded data removed]",
      "text/plain": [
       "<Figure size 640x480 with 1 Axes>"
      ]
     },
     "metadata": {},
     "output_type": "display_data"
    },
    {
     "data": {
      "image/png": "[encoded data removed]",
      "text/plain": [
       "<Figure size 640x480 with 1 Axes>"
      ]
     },
     "metadata": {},
     "output_type": "display_data"
    },
    {
     "data": {
      "image/png": "[encoded data removed]",
      "text/plain": [
       "<Figure size 640x480 with 1 Axes>"
      ]
     },
     "metadata": {},
     "output_type": "display_data"
    }
   ],
   "source": [
    "plt.imshow(A, cmap='gray'), plt.title('A')\n",
    "plt.show()\n",
    "plt.imshow(E, cmap='gray'), plt.title('E')\n",
    "plt.show()\n",
    "plt.imshow(I, cmap='gray'), plt.title('I')\n",
    "plt.show()\n",
    "plt.imshow(O, cmap='gray'), plt.title('O')\n",
    "plt.show()\n",
    "plt.imshow(U, cmap='gray'), plt.title('U')\n",
    "plt.show()"
   ]
  },
  {
   "cell_type": "code",
   "execution_count": 5,
   "metadata": {},
   "outputs": [
    {
     "data": {
      "text/plain": [
       "10000"
      ]
     },
     "execution_count": 5,
     "metadata": {},
     "output_type": "execute_result"
    }
   ],
   "source": [
    "nna = NNA()        # Se crea el objeto red neuronal\n",
    "nna.training(Yi,Yd) # se realiza el entrenamiento de la red"
   ]
  },
  {
   "cell_type": "code",
   "execution_count": 6,
   "metadata": {},
   "outputs": [
    {
     "name": "stdout",
     "output_type": "stream",
     "text": [
      "Salida       Valor deseado    Error\n",
      "(array([0.98836456]), 7) ->    [1] ->      [0.01163544]\n",
      "(array([0.00437682]), 7) ->    [0] ->      [-0.00437682]\n",
      "(array([4.24438131e-09]), 7) ->    [0] ->      [-4.24438131e-09]\n",
      "(array([0.00668774]), 7) ->    [0] ->      [-0.00668774]\n",
      "(array([0.01184538]), 7) ->    [0] ->      [-0.01184538]\n",
      "\n",
      "Los valores de salida son aproximados\n"
     ]
    }
   ],
   "source": [
    "# Prueba Letra A:\n",
    "At = np.array([A.ravel()]).T\n",
    "print(\"Salida\",\"      Valor deseado\", \"   Error\")\n",
    "for i in range(5):\n",
    "    print((nna.forward(At)[i],7),\"->   \", da[i],\"->     \",nna.error(At,da)[i])\n",
    "\n",
    "print(\"\\nLos valores de salida son aproximados\")"
   ]
  },
  {
   "cell_type": "code",
   "execution_count": null,
   "metadata": {},
   "outputs": [],
   "source": []
  }
 ],
 "metadata": {
  "kernelspec": {
   "display_name": "Python 3.10.6 64-bit",
   "language": "python",
   "name": "python3"
  },
  "language_info": {
   "codemirror_mode": {
    "name": "ipython",
    "version": 3
   },
   "file_extension": ".py",
   "mimetype": "text/x-python",
   "name": "python",
   "nbconvert_exporter": "python",
   "pygments_lexer": "ipython3",
   "version": "3.10.6"
  },
  "vscode": {
   "interpreter": {
    "hash": "916dbcbb3f70747c44a77c7bcd40155683ae19c65e1c03b4aa3499c5328201f1"
   }
  }
 },
 "nbformat": 4,
 "nbformat_minor": 2
}
